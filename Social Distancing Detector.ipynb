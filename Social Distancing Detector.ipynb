{
 "cells": [
  {
   "cell_type": "code",
   "execution_count": 1,
   "id": "3afd7474",
   "metadata": {},
   "outputs": [
    {
     "name": "stdout",
     "output_type": "stream",
     "text": [
      "Requirement already satisfied: opencv-python in c:\\users\\lenovo\\anaconda3\\lib\\site-packages (4.5.3.56)\n",
      "Requirement already satisfied: numpy>=1.17.3 in c:\\users\\lenovo\\anaconda3\\lib\\site-packages (from opencv-python) (1.20.1)\n"
     ]
    }
   ],
   "source": [
    "!pip3 install opencv-python\n",
    "import numpy as np\n",
    "import cv2"
   ]
  },
  {
   "cell_type": "code",
   "execution_count": 2,
   "id": "9ff9a1e7",
   "metadata": {},
   "outputs": [],
   "source": [
    "body_classifier = cv2.CascadeClassifier('haarcascade_fullbody.xml')"
   ]
  },
  {
   "cell_type": "code",
   "execution_count": 3,
   "id": "dd14588f",
   "metadata": {},
   "outputs": [
    {
     "data": {
      "text/plain": [
       "-1"
      ]
     },
     "execution_count": 3,
     "metadata": {},
     "output_type": "execute_result"
    }
   ],
   "source": [
    "image = cv2.imread('beach_crop1.jpg')\n",
    "gray = cv2.cvtColor(image,cv2.COLOR_BGR2GRAY)\n",
    "cv2.imshow('img',image)\n",
    "cv2.waitKey(0)"
   ]
  },
  {
   "cell_type": "code",
   "execution_count": 4,
   "id": "d28cb497",
   "metadata": {},
   "outputs": [
    {
     "name": "stdout",
     "output_type": "stream",
     "text": [
      "[[ 83   6  33  65]\n",
      " [ 59  11  33  65]\n",
      " [  7  62  40  81]\n",
      " [ 98  45  39  78]\n",
      " [293  86  53 106]\n",
      " [221  89  61 122]]\n"
     ]
    }
   ],
   "source": [
    "bodies = body_classifier.detectMultiScale(gray,1.05,10)\n",
    "print(bodies)"
   ]
  },
  {
   "cell_type": "code",
   "execution_count": 5,
   "id": "20a6e694",
   "metadata": {},
   "outputs": [
    {
     "name": "stdout",
     "output_type": "stream",
     "text": [
      "[83, 6]\n",
      "[59, 11]\n",
      "[7, 62]\n",
      "[98, 45]\n",
      "[293, 86]\n",
      "[221, 89]\n",
      "[[83, 6], [59, 11], [7, 62], [98, 45], [293, 86], [221, 89]]\n"
     ]
    }
   ],
   "source": [
    "l=[]\n",
    "i=1\n",
    "lf=[]\n",
    "for (x,y,w,h) in bodies:\n",
    "    cv2.rectangle(image,(x,y),(x+w,y+h),(0,0,255),2)\n",
    "    s=str(i)\n",
    "    cv2.putText(image,s,(x,y),cv2.FONT_HERSHEY_SIMPLEX,1,(0,255,0),2)\n",
    "    i+=1\n",
    "    l=[]\n",
    "    l.append(x)\n",
    "    l.append(y)\n",
    "    lf.append(l)\n",
    "    print(l)\n",
    "print(lf)"
   ]
  },
  {
   "cell_type": "code",
   "execution_count": 6,
   "id": "a7dc005d",
   "metadata": {},
   "outputs": [
    {
     "name": "stdout",
     "output_type": "stream",
     "text": [
      "[83, 6]\n",
      "[59, 11]\n",
      "P1 - P2 = 24.515301344262525\n",
      "[7, 62]\n",
      "P1 - P3 = 94.40338976964757\n",
      "[98, 45]\n",
      "P1 - P4 = 41.78516483155236\n",
      "[293, 86]\n",
      "P1 - P5 = 224.72205054244233\n",
      "[221, 89]\n",
      "P1 - P6 = 161.0372627685903\n",
      "[59, 11]\n",
      "[7, 62]\n",
      "P2 - P3 = 72.83543093852057\n",
      "[98, 45]\n",
      "P2 - P4 = 51.73973328110612\n",
      "[293, 86]\n",
      "P2 - P5 = 245.72545655670274\n",
      "[221, 89]\n",
      "P2 - P6 = 179.79988876526036\n",
      "[7, 62]\n",
      "[98, 45]\n",
      "P3 - P4 = 92.57429448826494\n",
      "[293, 86]\n",
      "P3 - P5 = 287.0052264332481\n",
      "[221, 89]\n",
      "P3 - P6 = 215.6965461012299\n",
      "[98, 45]\n",
      "[293, 86]\n",
      "P4 - P5 = 199.2636444512646\n",
      "[221, 89]\n",
      "P4 - P6 = 130.6330739131557\n",
      "[293, 86]\n",
      "[221, 89]\n",
      "P5 - P6 = 72.06247289678588\n",
      "[221, 89]\n",
      "Person1 and Person2; Person1 and Person4; Person2 and Person4; Person5 and Person6;  are not following social distancing\n"
     ]
    }
   ],
   "source": [
    "close_persons=\"\"\n",
    "import math\n",
    "for i in range(len(lf)):\n",
    "    print(lf[i])\n",
    "    for j in range(i+1,len(lf)):\n",
    "        print(lf[j])\n",
    "        d=math.sqrt(((lf[j][1]-lf[i][1])**2)+(lf[j][0]-lf[i][0])**2)\n",
    "        print(\"P\"+str(i+1)+\" - \"+\"P\"+str(j+1)+\" = \"+str(d))\n",
    "    \n",
    "        if d<72.5:\n",
    "            close_persons+=\"Person\"+str(i+1)+\" and Person\"+str(j+1)+\"; \"\n",
    "            cv2.line(image,(lf[i][0],lf[i][1]),(lf[j][0],lf[j][1]),(255,0,0),2)\n",
    "\n",
    "close_persons+=\" are not following social distancing\"\n",
    "print(close_persons)"
   ]
  },
  {
   "cell_type": "code",
   "execution_count": 7,
   "id": "78bb7b0d",
   "metadata": {},
   "outputs": [
    {
     "data": {
      "text/plain": [
       "-1"
      ]
     },
     "execution_count": 7,
     "metadata": {},
     "output_type": "execute_result"
    }
   ],
   "source": [
    "cv2.imshow('Distance',image)\n",
    "cv2.waitKey(0)"
   ]
  },
  {
   "cell_type": "code",
   "execution_count": null,
   "id": "e584d4a6",
   "metadata": {},
   "outputs": [],
   "source": []
  },
  {
   "cell_type": "code",
   "execution_count": null,
   "id": "47a32638",
   "metadata": {},
   "outputs": [],
   "source": []
  }
 ],
 "metadata": {
  "kernelspec": {
   "display_name": "Python 3",
   "language": "python",
   "name": "python3"
  },
  "language_info": {
   "codemirror_mode": {
    "name": "ipython",
    "version": 3
   },
   "file_extension": ".py",
   "mimetype": "text/x-python",
   "name": "python",
   "nbconvert_exporter": "python",
   "pygments_lexer": "ipython3",
   "version": "3.8.8"
  }
 },
 "nbformat": 4,
 "nbformat_minor": 5
}
